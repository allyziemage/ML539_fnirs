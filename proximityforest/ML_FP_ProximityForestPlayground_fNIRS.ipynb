{
  "nbformat": 4,
  "nbformat_minor": 0,
  "metadata": {
    "colab": {
      "name": "ML_FP_ProximityForestPlayground_fNIRS.ipynb",
      "provenance": [],
      "collapsed_sections": []
    },
    "kernelspec": {
      "name": "python3",
      "display_name": "Python 3"
    }
  },
  "cells": [
    {
      "cell_type": "code",
      "metadata": {
        "id": "VjDUEKQMgLD4",
        "colab": {
          "base_uri": "https://localhost:8080/"
        },
        "outputId": "c56905e8-84a3-4f52-980d-6576d8f6b90f"
      },
      "source": [
        "!pip install tsfresh"
      ],
      "execution_count": null,
      "outputs": [
        {
          "output_type": "stream",
          "text": [
            "Collecting tsfresh\n",
            "\u001b[?25l  Downloading https://files.pythonhosted.org/packages/35/b7/cbbfb02d50a93dbb710a730f168711eb343829e1cdea9f0d001d91aeefd6/tsfresh-0.17.0-py2.py3-none-any.whl (91kB)\n",
            "\r\u001b[K     |███▋                            | 10kB 13.3MB/s eta 0:00:01\r\u001b[K     |███████▏                        | 20kB 17.4MB/s eta 0:00:01\r\u001b[K     |██████████▉                     | 30kB 11.2MB/s eta 0:00:01\r\u001b[K     |██████████████▍                 | 40kB 8.6MB/s eta 0:00:01\r\u001b[K     |██████████████████              | 51kB 4.3MB/s eta 0:00:01\r\u001b[K     |█████████████████████▋          | 61kB 4.8MB/s eta 0:00:01\r\u001b[K     |█████████████████████████▏      | 71kB 5.1MB/s eta 0:00:01\r\u001b[K     |████████████████████████████▉   | 81kB 5.5MB/s eta 0:00:01\r\u001b[K     |████████████████████████████████| 92kB 4.1MB/s \n",
            "\u001b[?25hRequirement already satisfied: scipy>=1.2.0 in /usr/local/lib/python3.6/dist-packages (from tsfresh) (1.4.1)\n",
            "Requirement already satisfied: requests>=2.9.1 in /usr/local/lib/python3.6/dist-packages (from tsfresh) (2.23.0)\n",
            "Requirement already satisfied: numpy>=1.15.1 in /usr/local/lib/python3.6/dist-packages (from tsfresh) (1.18.5)\n",
            "Requirement already satisfied: dask[dataframe]>=2.9.0 in /usr/local/lib/python3.6/dist-packages (from tsfresh) (2.12.0)\n",
            "Requirement already satisfied: scikit-learn>=0.19.2 in /usr/local/lib/python3.6/dist-packages (from tsfresh) (0.22.2.post1)\n",
            "Requirement already satisfied: statsmodels>=0.9.0 in /usr/local/lib/python3.6/dist-packages (from tsfresh) (0.10.2)\n",
            "Requirement already satisfied: pandas>=0.25.0 in /usr/local/lib/python3.6/dist-packages (from tsfresh) (1.1.4)\n",
            "Requirement already satisfied: tqdm>=4.10.0 in /usr/local/lib/python3.6/dist-packages (from tsfresh) (4.41.1)\n",
            "Collecting distributed>=2.11.0\n",
            "\u001b[?25l  Downloading https://files.pythonhosted.org/packages/88/38/d9f0e31c15de18cb124d1ed33cf9c99c84f05f251ff6767e7573c217725b/distributed-2.30.1-py3-none-any.whl (656kB)\n",
            "\u001b[K     |████████████████████████████████| 665kB 18.8MB/s \n",
            "\u001b[?25hRequirement already satisfied: patsy>=0.4.1 in /usr/local/lib/python3.6/dist-packages (from tsfresh) (0.5.1)\n",
            "Requirement already satisfied: chardet<4,>=3.0.2 in /usr/local/lib/python3.6/dist-packages (from requests>=2.9.1->tsfresh) (3.0.4)\n",
            "Requirement already satisfied: idna<3,>=2.5 in /usr/local/lib/python3.6/dist-packages (from requests>=2.9.1->tsfresh) (2.10)\n",
            "Requirement already satisfied: certifi>=2017.4.17 in /usr/local/lib/python3.6/dist-packages (from requests>=2.9.1->tsfresh) (2020.11.8)\n",
            "Requirement already satisfied: urllib3!=1.25.0,!=1.25.1,<1.26,>=1.21.1 in /usr/local/lib/python3.6/dist-packages (from requests>=2.9.1->tsfresh) (1.24.3)\n",
            "Collecting partd>=0.3.10; extra == \"dataframe\"\n",
            "  Downloading https://files.pythonhosted.org/packages/44/e1/68dbe731c9c067655bff1eca5b7d40c20ca4b23fd5ec9f3d17e201a6f36b/partd-1.1.0-py3-none-any.whl\n",
            "Requirement already satisfied: toolz>=0.7.3; extra == \"dataframe\" in /usr/local/lib/python3.6/dist-packages (from dask[dataframe]>=2.9.0->tsfresh) (0.11.1)\n",
            "Collecting fsspec>=0.6.0; extra == \"dataframe\"\n",
            "\u001b[?25l  Downloading https://files.pythonhosted.org/packages/a5/8b/1df260f860f17cb08698170153ef7db672c497c1840dcc8613ce26a8a005/fsspec-0.8.4-py3-none-any.whl (91kB)\n",
            "\u001b[K     |████████████████████████████████| 92kB 9.0MB/s \n",
            "\u001b[?25hRequirement already satisfied: joblib>=0.11 in /usr/local/lib/python3.6/dist-packages (from scikit-learn>=0.19.2->tsfresh) (0.17.0)\n",
            "Requirement already satisfied: pytz>=2017.2 in /usr/local/lib/python3.6/dist-packages (from pandas>=0.25.0->tsfresh) (2018.9)\n",
            "Requirement already satisfied: python-dateutil>=2.7.3 in /usr/local/lib/python3.6/dist-packages (from pandas>=0.25.0->tsfresh) (2.8.1)\n",
            "Requirement already satisfied: tblib>=1.6.0 in /usr/local/lib/python3.6/dist-packages (from distributed>=2.11.0->tsfresh) (1.7.0)\n",
            "Requirement already satisfied: click>=6.6 in /usr/local/lib/python3.6/dist-packages (from distributed>=2.11.0->tsfresh) (7.1.2)\n",
            "Requirement already satisfied: tornado>=5; python_version < \"3.8\" in /usr/local/lib/python3.6/dist-packages (from distributed>=2.11.0->tsfresh) (5.1.1)\n",
            "Requirement already satisfied: psutil>=5.0 in /usr/local/lib/python3.6/dist-packages (from distributed>=2.11.0->tsfresh) (5.4.8)\n",
            "Collecting cloudpickle>=1.5.0\n",
            "  Downloading https://files.pythonhosted.org/packages/e7/e3/898487e5dbeb612054cf2e0c188463acb358167fef749c53c8bb8918cea1/cloudpickle-1.6.0-py3-none-any.whl\n",
            "Collecting contextvars; python_version < \"3.7\"\n",
            "  Downloading https://files.pythonhosted.org/packages/83/96/55b82d9f13763be9d672622e1b8106c85acb83edd7cc2fa5bc67cd9877e9/contextvars-2.4.tar.gz\n",
            "Requirement already satisfied: sortedcontainers!=2.0.0,!=2.0.1 in /usr/local/lib/python3.6/dist-packages (from distributed>=2.11.0->tsfresh) (2.3.0)\n",
            "Requirement already satisfied: zict>=0.1.3 in /usr/local/lib/python3.6/dist-packages (from distributed>=2.11.0->tsfresh) (2.0.0)\n",
            "Requirement already satisfied: msgpack>=0.6.0 in /usr/local/lib/python3.6/dist-packages (from distributed>=2.11.0->tsfresh) (1.0.0)\n",
            "Requirement already satisfied: pyyaml in /usr/local/lib/python3.6/dist-packages (from distributed>=2.11.0->tsfresh) (3.13)\n",
            "Requirement already satisfied: setuptools in /usr/local/lib/python3.6/dist-packages (from distributed>=2.11.0->tsfresh) (50.3.2)\n",
            "Requirement already satisfied: six in /usr/local/lib/python3.6/dist-packages (from patsy>=0.4.1->tsfresh) (1.15.0)\n",
            "Collecting locket\n",
            "  Downloading https://files.pythonhosted.org/packages/d0/22/3c0f97614e0be8386542facb3a7dcfc2584f7b83608c02333bced641281c/locket-0.2.0.tar.gz\n",
            "Collecting immutables>=0.9\n",
            "\u001b[?25l  Downloading https://files.pythonhosted.org/packages/99/e0/ea6fd4697120327d26773b5a84853f897a68e33d3f9376b00a8ff96e4f63/immutables-0.14-cp36-cp36m-manylinux1_x86_64.whl (98kB)\n",
            "\u001b[K     |████████████████████████████████| 102kB 10.9MB/s \n",
            "\u001b[?25hRequirement already satisfied: heapdict in /usr/local/lib/python3.6/dist-packages (from zict>=0.1.3->distributed>=2.11.0->tsfresh) (1.0.1)\n",
            "Building wheels for collected packages: contextvars, locket\n",
            "  Building wheel for contextvars (setup.py) ... \u001b[?25l\u001b[?25hdone\n",
            "  Created wheel for contextvars: filename=contextvars-2.4-cp36-none-any.whl size=7666 sha256=5b2cea588b0b0671da84ea93d8d360bace93af128fe93abac06ad6f3312e19c1\n",
            "  Stored in directory: /root/.cache/pip/wheels/a5/7d/68/1ebae2668bda2228686e3c1cf16f2c2384cea6e9334ad5f6de\n",
            "  Building wheel for locket (setup.py) ... \u001b[?25l\u001b[?25hdone\n",
            "  Created wheel for locket: filename=locket-0.2.0-cp36-none-any.whl size=4040 sha256=fb2a700c4d47021313d16b1fe64516693982c66895f49e226f59a818274ac21b\n",
            "  Stored in directory: /root/.cache/pip/wheels/26/1e/e8/4fa236ec931b1a0cdd61578e20d4934d7bf188858723b84698\n",
            "Successfully built contextvars locket\n",
            "\u001b[31mERROR: tensorflow-probability 0.11.0 has requirement cloudpickle==1.3, but you'll have cloudpickle 1.6.0 which is incompatible.\u001b[0m\n",
            "Installing collected packages: cloudpickle, immutables, contextvars, distributed, tsfresh, locket, partd, fsspec\n",
            "  Found existing installation: cloudpickle 1.3.0\n",
            "    Uninstalling cloudpickle-1.3.0:\n",
            "      Successfully uninstalled cloudpickle-1.3.0\n",
            "  Found existing installation: distributed 1.25.3\n",
            "    Uninstalling distributed-1.25.3:\n",
            "      Successfully uninstalled distributed-1.25.3\n",
            "Successfully installed cloudpickle-1.6.0 contextvars-2.4 distributed-2.30.1 fsspec-0.8.4 immutables-0.14 locket-0.2.0 partd-1.1.0 tsfresh-0.17.0\n"
          ],
          "name": "stdout"
        }
      ]
    },
    {
      "cell_type": "code",
      "metadata": {
        "id": "s6vjS2RP15l9",
        "colab": {
          "base_uri": "https://localhost:8080/"
        },
        "outputId": "4640e0c1-d542-4ea8-cd39-199c0ee9b291"
      },
      "source": [
        "!pip install sktime"
      ],
      "execution_count": null,
      "outputs": [
        {
          "output_type": "stream",
          "text": [
            "Collecting sktime\n",
            "\u001b[?25l  Downloading https://files.pythonhosted.org/packages/8b/85/b58f26cf0e6404d80b365a318b9e49c6810a9ee00c44f039d65272ec4314/sktime-0.4.3-cp36-cp36m-manylinux2014_x86_64.whl (5.6MB)\n",
            "\u001b[K     |████████████████████████████████| 5.6MB 5.0MB/s \n",
            "\u001b[?25hRequirement already satisfied: wheel in /usr/local/lib/python3.6/dist-packages (from sktime) (0.35.1)\n",
            "Requirement already satisfied: numpy>=1.18.0 in /usr/local/lib/python3.6/dist-packages (from sktime) (1.18.5)\n",
            "Collecting scikit-learn>=0.23.0\n",
            "\u001b[?25l  Downloading https://files.pythonhosted.org/packages/5c/a1/273def87037a7fb010512bbc5901c31cfddfca8080bc63b42b26e3cc55b3/scikit_learn-0.23.2-cp36-cp36m-manylinux1_x86_64.whl (6.8MB)\n",
            "\u001b[K     |████████████████████████████████| 6.8MB 22.5MB/s \n",
            "\u001b[?25hCollecting statsmodels>=0.12.0\n",
            "\u001b[?25l  Downloading https://files.pythonhosted.org/packages/be/4c/9e2435ca6645d6bafa2b51bb11f0a365b28934a2ffe9d6e339d67130926d/statsmodels-0.12.1-cp36-cp36m-manylinux1_x86_64.whl (9.5MB)\n",
            "\u001b[K     |████████████████████████████████| 9.5MB 45.6MB/s \n",
            "\u001b[?25hRequirement already satisfied: pandas>=1.0.0 in /usr/local/lib/python3.6/dist-packages (from sktime) (1.1.4)\n",
            "Requirement already satisfied: scipy>=0.19.1 in /usr/local/lib/python3.6/dist-packages (from scikit-learn>=0.23.0->sktime) (1.4.1)\n",
            "Requirement already satisfied: joblib>=0.11 in /usr/local/lib/python3.6/dist-packages (from scikit-learn>=0.23.0->sktime) (0.17.0)\n",
            "Collecting threadpoolctl>=2.0.0\n",
            "  Downloading https://files.pythonhosted.org/packages/f7/12/ec3f2e203afa394a149911729357aa48affc59c20e2c1c8297a60f33f133/threadpoolctl-2.1.0-py3-none-any.whl\n",
            "Requirement already satisfied: patsy>=0.5 in /usr/local/lib/python3.6/dist-packages (from statsmodels>=0.12.0->sktime) (0.5.1)\n",
            "Requirement already satisfied: python-dateutil>=2.7.3 in /usr/local/lib/python3.6/dist-packages (from pandas>=1.0.0->sktime) (2.8.1)\n",
            "Requirement already satisfied: pytz>=2017.2 in /usr/local/lib/python3.6/dist-packages (from pandas>=1.0.0->sktime) (2018.9)\n",
            "Requirement already satisfied: six in /usr/local/lib/python3.6/dist-packages (from patsy>=0.5->statsmodels>=0.12.0->sktime) (1.15.0)\n",
            "Installing collected packages: threadpoolctl, scikit-learn, statsmodels, sktime\n",
            "  Found existing installation: scikit-learn 0.22.2.post1\n",
            "    Uninstalling scikit-learn-0.22.2.post1:\n",
            "      Successfully uninstalled scikit-learn-0.22.2.post1\n",
            "  Found existing installation: statsmodels 0.10.2\n",
            "    Uninstalling statsmodels-0.10.2:\n",
            "      Successfully uninstalled statsmodels-0.10.2\n",
            "Successfully installed scikit-learn-0.23.2 sktime-0.4.3 statsmodels-0.12.1 threadpoolctl-2.1.0\n"
          ],
          "name": "stdout"
        }
      ]
    },
    {
      "cell_type": "code",
      "metadata": {
        "id": "txFPRm8sn2I2"
      },
      "source": [
        "import sktime\n",
        "import numpy as np\n",
        "import pandas as pd"
      ],
      "execution_count": null,
      "outputs": []
    },
    {
      "cell_type": "markdown",
      "metadata": {
        "id": "NWRF6aoNVsAC"
      },
      "source": [
        "Loading fNIRS Data"
      ]
    },
    {
      "cell_type": "code",
      "metadata": {
        "id": "snAn5EGW-bLn"
      },
      "source": [
        "fnirs_namesCol = ['Subject Name', 'Event Name', 'Channel Name', 'Start time', 'End time']\n",
        "\n",
        "for q in range(131):\n",
        "  strVar = 'v' + str(q)\n",
        "  fnirs_namesCol.append(strVar)\n",
        "\n",
        "fnirs_df = pd.read_csv('/content/drive/MyDrive/CS539/211_AXCPT19_TK_axcaxwr_hb_cs539.csv', header = 0, names = fnirs_namesCol)\n",
        "fnirs_col_name = list(fnirs_df.columns)\n",
        "fnirs_trans_df = pd.DataFrame(data = fnirs_df, columns = fnirs_col_name)"
      ],
      "execution_count": null,
      "outputs": []
    },
    {
      "cell_type": "code",
      "metadata": {
        "colab": {
          "base_uri": "https://localhost:8080/",
          "height": 525
        },
        "id": "qLAgPvXDYJDo",
        "outputId": "d2ee6d0d-89d0-408a-aefa-56fa3ab5e6fe"
      },
      "source": [
        "fnirs_trans_df.head()"
      ],
      "execution_count": null,
      "outputs": [
        {
          "output_type": "execute_result",
          "data": {
            "text/html": [
              "<div>\n",
              "<style scoped>\n",
              "    .dataframe tbody tr th:only-of-type {\n",
              "        vertical-align: middle;\n",
              "    }\n",
              "\n",
              "    .dataframe tbody tr th {\n",
              "        vertical-align: top;\n",
              "    }\n",
              "\n",
              "    .dataframe thead th {\n",
              "        text-align: right;\n",
              "    }\n",
              "</style>\n",
              "<table border=\"1\" class=\"dataframe\">\n",
              "  <thead>\n",
              "    <tr style=\"text-align: right;\">\n",
              "      <th></th>\n",
              "      <th>Subject Name</th>\n",
              "      <th>Event Name</th>\n",
              "      <th>Channel Name</th>\n",
              "      <th>Start time</th>\n",
              "      <th>End time</th>\n",
              "      <th>v0</th>\n",
              "      <th>v1</th>\n",
              "      <th>v2</th>\n",
              "      <th>v3</th>\n",
              "      <th>v4</th>\n",
              "      <th>v5</th>\n",
              "      <th>v6</th>\n",
              "      <th>v7</th>\n",
              "      <th>v8</th>\n",
              "      <th>v9</th>\n",
              "      <th>v10</th>\n",
              "      <th>v11</th>\n",
              "      <th>v12</th>\n",
              "      <th>v13</th>\n",
              "      <th>v14</th>\n",
              "      <th>v15</th>\n",
              "      <th>v16</th>\n",
              "      <th>v17</th>\n",
              "      <th>v18</th>\n",
              "      <th>v19</th>\n",
              "      <th>v20</th>\n",
              "      <th>v21</th>\n",
              "      <th>v22</th>\n",
              "      <th>v23</th>\n",
              "      <th>v24</th>\n",
              "      <th>v25</th>\n",
              "      <th>v26</th>\n",
              "      <th>v27</th>\n",
              "      <th>v28</th>\n",
              "      <th>v29</th>\n",
              "      <th>v30</th>\n",
              "      <th>v31</th>\n",
              "      <th>v32</th>\n",
              "      <th>v33</th>\n",
              "      <th>v34</th>\n",
              "      <th>...</th>\n",
              "      <th>v91</th>\n",
              "      <th>v92</th>\n",
              "      <th>v93</th>\n",
              "      <th>v94</th>\n",
              "      <th>v95</th>\n",
              "      <th>v96</th>\n",
              "      <th>v97</th>\n",
              "      <th>v98</th>\n",
              "      <th>v99</th>\n",
              "      <th>v100</th>\n",
              "      <th>v101</th>\n",
              "      <th>v102</th>\n",
              "      <th>v103</th>\n",
              "      <th>v104</th>\n",
              "      <th>v105</th>\n",
              "      <th>v106</th>\n",
              "      <th>v107</th>\n",
              "      <th>v108</th>\n",
              "      <th>v109</th>\n",
              "      <th>v110</th>\n",
              "      <th>v111</th>\n",
              "      <th>v112</th>\n",
              "      <th>v113</th>\n",
              "      <th>v114</th>\n",
              "      <th>v115</th>\n",
              "      <th>v116</th>\n",
              "      <th>v117</th>\n",
              "      <th>v118</th>\n",
              "      <th>v119</th>\n",
              "      <th>v120</th>\n",
              "      <th>v121</th>\n",
              "      <th>v122</th>\n",
              "      <th>v123</th>\n",
              "      <th>v124</th>\n",
              "      <th>v125</th>\n",
              "      <th>v126</th>\n",
              "      <th>v127</th>\n",
              "      <th>v128</th>\n",
              "      <th>v129</th>\n",
              "      <th>v130</th>\n",
              "    </tr>\n",
              "  </thead>\n",
              "  <tbody>\n",
              "    <tr>\n",
              "      <th>0</th>\n",
              "      <td>211_AXCPT19_TK</td>\n",
              "      <td>AX correct probe response</td>\n",
              "      <td>Channel-1 HbO</td>\n",
              "      <td>480933.052063</td>\n",
              "      <td>495933.052063</td>\n",
              "      <td>0.133586</td>\n",
              "      <td>0.126547</td>\n",
              "      <td>0.118950</td>\n",
              "      <td>0.111222</td>\n",
              "      <td>0.103934</td>\n",
              "      <td>0.097558</td>\n",
              "      <td>0.092227</td>\n",
              "      <td>0.087686</td>\n",
              "      <td>0.083482</td>\n",
              "      <td>0.079261</td>\n",
              "      <td>0.074946</td>\n",
              "      <td>0.070678</td>\n",
              "      <td>0.066599</td>\n",
              "      <td>0.062641</td>\n",
              "      <td>0.058526</td>\n",
              "      <td>0.053982</td>\n",
              "      <td>0.048984</td>\n",
              "      <td>0.043813</td>\n",
              "      <td>0.038875</td>\n",
              "      <td>0.034388</td>\n",
              "      <td>0.030183</td>\n",
              "      <td>0.025741</td>\n",
              "      <td>0.020470</td>\n",
              "      <td>0.013984</td>\n",
              "      <td>0.006214</td>\n",
              "      <td>-0.002697</td>\n",
              "      <td>-0.012558</td>\n",
              "      <td>-0.023207</td>\n",
              "      <td>-0.034405</td>\n",
              "      <td>-0.045682</td>\n",
              "      <td>-0.056276</td>\n",
              "      <td>-0.065257</td>\n",
              "      <td>-0.071749</td>\n",
              "      <td>-0.075101</td>\n",
              "      <td>-0.074893</td>\n",
              "      <td>...</td>\n",
              "      <td>0.004659</td>\n",
              "      <td>0.004666</td>\n",
              "      <td>0.005730</td>\n",
              "      <td>0.007664</td>\n",
              "      <td>0.010030</td>\n",
              "      <td>0.012383</td>\n",
              "      <td>0.014507</td>\n",
              "      <td>0.016445</td>\n",
              "      <td>0.018324</td>\n",
              "      <td>0.020102</td>\n",
              "      <td>0.021452</td>\n",
              "      <td>0.021889</td>\n",
              "      <td>0.021057</td>\n",
              "      <td>0.018934</td>\n",
              "      <td>0.015814</td>\n",
              "      <td>0.012072</td>\n",
              "      <td>0.007894</td>\n",
              "      <td>0.003154</td>\n",
              "      <td>-0.002447</td>\n",
              "      <td>-0.009129</td>\n",
              "      <td>-0.016850</td>\n",
              "      <td>-0.025339</td>\n",
              "      <td>-0.034288</td>\n",
              "      <td>-0.043536</td>\n",
              "      <td>-0.053083</td>\n",
              "      <td>-0.062916</td>\n",
              "      <td>-0.072826</td>\n",
              "      <td>-0.082381</td>\n",
              "      <td>-0.091093</td>\n",
              "      <td>-0.098640</td>\n",
              "      <td>-0.104966</td>\n",
              "      <td>-0.110173</td>\n",
              "      <td>-0.114297</td>\n",
              "      <td>-0.117176</td>\n",
              "      <td>-0.118517</td>\n",
              "      <td>-0.118138</td>\n",
              "      <td>-0.116182</td>\n",
              "      <td>-0.113134</td>\n",
              "      <td>-0.109592</td>\n",
              "      <td>-0.105973</td>\n",
              "    </tr>\n",
              "    <tr>\n",
              "      <th>1</th>\n",
              "      <td>211_AXCPT19_TK</td>\n",
              "      <td>AX correct probe response</td>\n",
              "      <td>Channel-1 HbO</td>\n",
              "      <td>534262.971163</td>\n",
              "      <td>549262.971163</td>\n",
              "      <td>0.102368</td>\n",
              "      <td>0.101705</td>\n",
              "      <td>0.101438</td>\n",
              "      <td>0.101091</td>\n",
              "      <td>0.100233</td>\n",
              "      <td>0.098806</td>\n",
              "      <td>0.097182</td>\n",
              "      <td>0.095937</td>\n",
              "      <td>0.095487</td>\n",
              "      <td>0.095828</td>\n",
              "      <td>0.096565</td>\n",
              "      <td>0.097195</td>\n",
              "      <td>0.097419</td>\n",
              "      <td>0.097257</td>\n",
              "      <td>0.096914</td>\n",
              "      <td>0.096515</td>\n",
              "      <td>0.095937</td>\n",
              "      <td>0.094877</td>\n",
              "      <td>0.093120</td>\n",
              "      <td>0.090787</td>\n",
              "      <td>0.088353</td>\n",
              "      <td>0.086423</td>\n",
              "      <td>0.085392</td>\n",
              "      <td>0.085233</td>\n",
              "      <td>0.085564</td>\n",
              "      <td>0.085961</td>\n",
              "      <td>0.086282</td>\n",
              "      <td>0.086757</td>\n",
              "      <td>0.087799</td>\n",
              "      <td>0.089667</td>\n",
              "      <td>0.092191</td>\n",
              "      <td>0.094779</td>\n",
              "      <td>0.096698</td>\n",
              "      <td>0.097434</td>\n",
              "      <td>0.096877</td>\n",
              "      <td>...</td>\n",
              "      <td>-0.015744</td>\n",
              "      <td>-0.011054</td>\n",
              "      <td>-0.005383</td>\n",
              "      <td>0.001172</td>\n",
              "      <td>0.008423</td>\n",
              "      <td>0.016279</td>\n",
              "      <td>0.024770</td>\n",
              "      <td>0.033909</td>\n",
              "      <td>0.043535</td>\n",
              "      <td>0.053292</td>\n",
              "      <td>0.062787</td>\n",
              "      <td>0.071789</td>\n",
              "      <td>0.080300</td>\n",
              "      <td>0.088434</td>\n",
              "      <td>0.096212</td>\n",
              "      <td>0.103434</td>\n",
              "      <td>0.109777</td>\n",
              "      <td>0.115021</td>\n",
              "      <td>0.119253</td>\n",
              "      <td>0.122844</td>\n",
              "      <td>0.126230</td>\n",
              "      <td>0.129652</td>\n",
              "      <td>0.133028</td>\n",
              "      <td>0.136086</td>\n",
              "      <td>0.138634</td>\n",
              "      <td>0.140764</td>\n",
              "      <td>0.142828</td>\n",
              "      <td>0.145217</td>\n",
              "      <td>0.148093</td>\n",
              "      <td>0.151264</td>\n",
              "      <td>0.154306</td>\n",
              "      <td>0.156823</td>\n",
              "      <td>0.158638</td>\n",
              "      <td>0.159793</td>\n",
              "      <td>0.160390</td>\n",
              "      <td>0.160433</td>\n",
              "      <td>0.159818</td>\n",
              "      <td>0.158506</td>\n",
              "      <td>0.156687</td>\n",
              "      <td>0.154785</td>\n",
              "    </tr>\n",
              "    <tr>\n",
              "      <th>2</th>\n",
              "      <td>211_AXCPT19_TK</td>\n",
              "      <td>AX correct probe response</td>\n",
              "      <td>Channel-1 HbO</td>\n",
              "      <td>656749.753952</td>\n",
              "      <td>671749.753952</td>\n",
              "      <td>-0.074602</td>\n",
              "      <td>-0.069031</td>\n",
              "      <td>-0.062551</td>\n",
              "      <td>-0.055030</td>\n",
              "      <td>-0.046690</td>\n",
              "      <td>-0.038071</td>\n",
              "      <td>-0.029781</td>\n",
              "      <td>-0.022224</td>\n",
              "      <td>-0.015512</td>\n",
              "      <td>-0.009557</td>\n",
              "      <td>-0.004243</td>\n",
              "      <td>0.000500</td>\n",
              "      <td>0.004779</td>\n",
              "      <td>0.008853</td>\n",
              "      <td>0.013148</td>\n",
              "      <td>0.018103</td>\n",
              "      <td>0.023972</td>\n",
              "      <td>0.030726</td>\n",
              "      <td>0.038164</td>\n",
              "      <td>0.046124</td>\n",
              "      <td>0.054627</td>\n",
              "      <td>0.063810</td>\n",
              "      <td>0.073716</td>\n",
              "      <td>0.084099</td>\n",
              "      <td>0.094431</td>\n",
              "      <td>0.104128</td>\n",
              "      <td>0.112822</td>\n",
              "      <td>0.120467</td>\n",
              "      <td>0.127216</td>\n",
              "      <td>0.133180</td>\n",
              "      <td>0.138254</td>\n",
              "      <td>0.142152</td>\n",
              "      <td>0.144618</td>\n",
              "      <td>0.145624</td>\n",
              "      <td>0.145393</td>\n",
              "      <td>...</td>\n",
              "      <td>-0.034840</td>\n",
              "      <td>-0.039306</td>\n",
              "      <td>-0.044884</td>\n",
              "      <td>-0.051147</td>\n",
              "      <td>-0.057486</td>\n",
              "      <td>-0.063359</td>\n",
              "      <td>-0.068506</td>\n",
              "      <td>-0.072949</td>\n",
              "      <td>-0.076794</td>\n",
              "      <td>-0.080002</td>\n",
              "      <td>-0.082322</td>\n",
              "      <td>-0.083462</td>\n",
              "      <td>-0.083345</td>\n",
              "      <td>-0.082276</td>\n",
              "      <td>-0.080848</td>\n",
              "      <td>-0.079667</td>\n",
              "      <td>-0.079086</td>\n",
              "      <td>-0.079141</td>\n",
              "      <td>-0.079711</td>\n",
              "      <td>-0.080747</td>\n",
              "      <td>-0.082381</td>\n",
              "      <td>-0.084827</td>\n",
              "      <td>-0.088168</td>\n",
              "      <td>-0.092231</td>\n",
              "      <td>-0.096645</td>\n",
              "      <td>-0.101039</td>\n",
              "      <td>-0.105221</td>\n",
              "      <td>-0.109166</td>\n",
              "      <td>-0.112832</td>\n",
              "      <td>-0.115971</td>\n",
              "      <td>-0.118106</td>\n",
              "      <td>-0.118740</td>\n",
              "      <td>-0.117636</td>\n",
              "      <td>-0.114992</td>\n",
              "      <td>-0.111359</td>\n",
              "      <td>-0.107335</td>\n",
              "      <td>-0.103269</td>\n",
              "      <td>-0.099155</td>\n",
              "      <td>-0.094784</td>\n",
              "      <td>-0.090011</td>\n",
              "    </tr>\n",
              "    <tr>\n",
              "      <th>3</th>\n",
              "      <td>211_AXCPT19_TK</td>\n",
              "      <td>AX correct probe response</td>\n",
              "      <td>Channel-1 HbO</td>\n",
              "      <td>721892.538071</td>\n",
              "      <td>736892.538071</td>\n",
              "      <td>-0.100320</td>\n",
              "      <td>-0.083561</td>\n",
              "      <td>-0.063817</td>\n",
              "      <td>-0.042287</td>\n",
              "      <td>-0.020261</td>\n",
              "      <td>0.000838</td>\n",
              "      <td>0.019539</td>\n",
              "      <td>0.034582</td>\n",
              "      <td>0.045222</td>\n",
              "      <td>0.051372</td>\n",
              "      <td>0.053493</td>\n",
              "      <td>0.052339</td>\n",
              "      <td>0.048724</td>\n",
              "      <td>0.043446</td>\n",
              "      <td>0.037269</td>\n",
              "      <td>0.030866</td>\n",
              "      <td>0.024680</td>\n",
              "      <td>0.018826</td>\n",
              "      <td>0.013144</td>\n",
              "      <td>0.007370</td>\n",
              "      <td>0.001297</td>\n",
              "      <td>-0.005185</td>\n",
              "      <td>-0.012135</td>\n",
              "      <td>-0.019572</td>\n",
              "      <td>-0.027389</td>\n",
              "      <td>-0.035247</td>\n",
              "      <td>-0.042569</td>\n",
              "      <td>-0.048674</td>\n",
              "      <td>-0.052957</td>\n",
              "      <td>-0.054975</td>\n",
              "      <td>-0.054412</td>\n",
              "      <td>-0.051027</td>\n",
              "      <td>-0.044694</td>\n",
              "      <td>-0.035519</td>\n",
              "      <td>-0.023902</td>\n",
              "      <td>...</td>\n",
              "      <td>0.021875</td>\n",
              "      <td>0.021687</td>\n",
              "      <td>0.021480</td>\n",
              "      <td>0.021623</td>\n",
              "      <td>0.022344</td>\n",
              "      <td>0.023566</td>\n",
              "      <td>0.024959</td>\n",
              "      <td>0.026210</td>\n",
              "      <td>0.027285</td>\n",
              "      <td>0.028485</td>\n",
              "      <td>0.030245</td>\n",
              "      <td>0.032810</td>\n",
              "      <td>0.036008</td>\n",
              "      <td>0.039312</td>\n",
              "      <td>0.042139</td>\n",
              "      <td>0.044174</td>\n",
              "      <td>0.045469</td>\n",
              "      <td>0.046282</td>\n",
              "      <td>0.046756</td>\n",
              "      <td>0.046693</td>\n",
              "      <td>0.045580</td>\n",
              "      <td>0.042875</td>\n",
              "      <td>0.038333</td>\n",
              "      <td>0.032135</td>\n",
              "      <td>0.024763</td>\n",
              "      <td>0.016702</td>\n",
              "      <td>0.008199</td>\n",
              "      <td>-0.000759</td>\n",
              "      <td>-0.010258</td>\n",
              "      <td>-0.020222</td>\n",
              "      <td>-0.030347</td>\n",
              "      <td>-0.040234</td>\n",
              "      <td>-0.049598</td>\n",
              "      <td>-0.058387</td>\n",
              "      <td>-0.066685</td>\n",
              "      <td>-0.074492</td>\n",
              "      <td>-0.081562</td>\n",
              "      <td>-0.087449</td>\n",
              "      <td>-0.091751</td>\n",
              "      <td>-0.094364</td>\n",
              "    </tr>\n",
              "    <tr>\n",
              "      <th>4</th>\n",
              "      <td>211_AXCPT19_TK</td>\n",
              "      <td>AX correct probe response</td>\n",
              "      <td>Channel-1 HbO</td>\n",
              "      <td>727512.249947</td>\n",
              "      <td>742512.249947</td>\n",
              "      <td>0.118903</td>\n",
              "      <td>0.117487</td>\n",
              "      <td>0.115526</td>\n",
              "      <td>0.113204</td>\n",
              "      <td>0.110580</td>\n",
              "      <td>0.107772</td>\n",
              "      <td>0.105066</td>\n",
              "      <td>0.102834</td>\n",
              "      <td>0.101317</td>\n",
              "      <td>0.100443</td>\n",
              "      <td>0.099823</td>\n",
              "      <td>0.098951</td>\n",
              "      <td>0.097411</td>\n",
              "      <td>0.094954</td>\n",
              "      <td>0.091431</td>\n",
              "      <td>0.086688</td>\n",
              "      <td>0.080593</td>\n",
              "      <td>0.073185</td>\n",
              "      <td>0.064804</td>\n",
              "      <td>0.056046</td>\n",
              "      <td>0.047555</td>\n",
              "      <td>0.039783</td>\n",
              "      <td>0.032905</td>\n",
              "      <td>0.026941</td>\n",
              "      <td>0.021935</td>\n",
              "      <td>0.018022</td>\n",
              "      <td>0.015313</td>\n",
              "      <td>0.013720</td>\n",
              "      <td>0.012897</td>\n",
              "      <td>0.012394</td>\n",
              "      <td>0.011916</td>\n",
              "      <td>0.011497</td>\n",
              "      <td>0.011427</td>\n",
              "      <td>0.012003</td>\n",
              "      <td>0.013278</td>\n",
              "      <td>...</td>\n",
              "      <td>-0.081647</td>\n",
              "      <td>-0.081196</td>\n",
              "      <td>-0.082097</td>\n",
              "      <td>-0.084179</td>\n",
              "      <td>-0.087285</td>\n",
              "      <td>-0.091330</td>\n",
              "      <td>-0.096184</td>\n",
              "      <td>-0.101488</td>\n",
              "      <td>-0.106610</td>\n",
              "      <td>-0.110816</td>\n",
              "      <td>-0.113574</td>\n",
              "      <td>-0.114799</td>\n",
              "      <td>-0.114855</td>\n",
              "      <td>-0.114305</td>\n",
              "      <td>-0.113586</td>\n",
              "      <td>-0.112839</td>\n",
              "      <td>-0.111987</td>\n",
              "      <td>-0.110963</td>\n",
              "      <td>-0.109896</td>\n",
              "      <td>-0.109083</td>\n",
              "      <td>-0.108745</td>\n",
              "      <td>-0.108777</td>\n",
              "      <td>-0.108696</td>\n",
              "      <td>-0.107842</td>\n",
              "      <td>-0.105725</td>\n",
              "      <td>-0.102292</td>\n",
              "      <td>-0.097931</td>\n",
              "      <td>-0.093231</td>\n",
              "      <td>-0.088683</td>\n",
              "      <td>-0.084545</td>\n",
              "      <td>-0.080914</td>\n",
              "      <td>-0.077909</td>\n",
              "      <td>-0.075772</td>\n",
              "      <td>-0.074790</td>\n",
              "      <td>-0.075087</td>\n",
              "      <td>-0.076467</td>\n",
              "      <td>-0.078459</td>\n",
              "      <td>-0.080550</td>\n",
              "      <td>-0.082448</td>\n",
              "      <td>-0.084203</td>\n",
              "    </tr>\n",
              "  </tbody>\n",
              "</table>\n",
              "<p>5 rows × 136 columns</p>\n",
              "</div>"
            ],
            "text/plain": [
              "     Subject Name                 Event Name  ...      v129      v130\n",
              "0  211_AXCPT19_TK  AX correct probe response  ... -0.109592 -0.105973\n",
              "1  211_AXCPT19_TK  AX correct probe response  ...  0.156687  0.154785\n",
              "2  211_AXCPT19_TK  AX correct probe response  ... -0.094784 -0.090011\n",
              "3  211_AXCPT19_TK  AX correct probe response  ... -0.091751 -0.094364\n",
              "4  211_AXCPT19_TK  AX correct probe response  ... -0.082448 -0.084203\n",
              "\n",
              "[5 rows x 136 columns]"
            ]
          },
          "metadata": {
            "tags": []
          },
          "execution_count": 7
        }
      ]
    },
    {
      "cell_type": "code",
      "metadata": {
        "id": "RTASM3IiYjWN"
      },
      "source": [
        "from sklearn.model_selection import train_test_split\n",
        "\n",
        "fnirs_X_df = fnirs_trans_df.drop(['Event Name'], axis=1)\n",
        "fnirs_Y_sr = fnirs_trans_df['Event Name']\n",
        "fnirs_X_train, fnirs_X_test, fnirs_Y_train, fnirs_Y_test = train_test_split(fnirs_X_df,fnirs_Y_sr)"
      ],
      "execution_count": null,
      "outputs": []
    },
    {
      "cell_type": "code",
      "metadata": {
        "colab": {
          "base_uri": "https://localhost:8080/"
        },
        "id": "XSMsPEqbZW_e",
        "outputId": "496e9980-ea4d-45e3-8114-50b08ca24b8c"
      },
      "source": [
        "print(fnirs_X_train.shape, fnirs_X_test.shape, fnirs_Y_train.shape, fnirs_Y_test.shape)"
      ],
      "execution_count": null,
      "outputs": [
        {
          "output_type": "stream",
          "text": [
            "(1380, 135) (460, 135) (1380,) (460,)\n"
          ],
          "name": "stdout"
        }
      ]
    },
    {
      "cell_type": "code",
      "metadata": {
        "colab": {
          "base_uri": "https://localhost:8080/"
        },
        "id": "ckiDRX__zIGn",
        "outputId": "1409b185-3e55-494a-9da7-432d44c65917"
      },
      "source": [
        "# encoding labels in X datasets\n",
        "from sklearn import preprocessing\n",
        "\n",
        "cat_cols = ['Subject Name', 'Channel Name', 'Start time', 'End time']\n",
        "# cat_cols = ['group', 'trial']\n",
        "enc = preprocessing.LabelEncoder()\n",
        "\n",
        "for col in cat_cols:\n",
        "    fnirs_X_train[col] = fnirs_X_train[col].astype('str')\n",
        "    fnirs_X_test[col] = fnirs_X_test[col].astype('str')\n",
        "    fnirs_X_train[col] = enc.fit_transform(fnirs_X_train[col])\n",
        "    fnirs_X_test[col] = enc.transform(fnirs_X_test[col]) # this throws a labeling error, I assume because of the subject IDs"
      ],
      "execution_count": null,
      "outputs": [
        {
          "output_type": "stream",
          "text": [
            "/usr/local/lib/python3.6/dist-packages/ipykernel_launcher.py:9: SettingWithCopyWarning: \n",
            "A value is trying to be set on a copy of a slice from a DataFrame.\n",
            "Try using .loc[row_indexer,col_indexer] = value instead\n",
            "\n",
            "See the caveats in the documentation: https://pandas.pydata.org/pandas-docs/stable/user_guide/indexing.html#returning-a-view-versus-a-copy\n",
            "  if __name__ == '__main__':\n",
            "/usr/local/lib/python3.6/dist-packages/ipykernel_launcher.py:10: SettingWithCopyWarning: \n",
            "A value is trying to be set on a copy of a slice from a DataFrame.\n",
            "Try using .loc[row_indexer,col_indexer] = value instead\n",
            "\n",
            "See the caveats in the documentation: https://pandas.pydata.org/pandas-docs/stable/user_guide/indexing.html#returning-a-view-versus-a-copy\n",
            "  # Remove the CWD from sys.path while we load stuff.\n",
            "/usr/local/lib/python3.6/dist-packages/ipykernel_launcher.py:11: SettingWithCopyWarning: \n",
            "A value is trying to be set on a copy of a slice from a DataFrame.\n",
            "Try using .loc[row_indexer,col_indexer] = value instead\n",
            "\n",
            "See the caveats in the documentation: https://pandas.pydata.org/pandas-docs/stable/user_guide/indexing.html#returning-a-view-versus-a-copy\n",
            "  # This is added back by InteractiveShellApp.init_path()\n",
            "/usr/local/lib/python3.6/dist-packages/ipykernel_launcher.py:12: SettingWithCopyWarning: \n",
            "A value is trying to be set on a copy of a slice from a DataFrame.\n",
            "Try using .loc[row_indexer,col_indexer] = value instead\n",
            "\n",
            "See the caveats in the documentation: https://pandas.pydata.org/pandas-docs/stable/user_guide/indexing.html#returning-a-view-versus-a-copy\n",
            "  if sys.path[0] == '':\n"
          ],
          "name": "stderr"
        }
      ]
    },
    {
      "cell_type": "code",
      "metadata": {
        "colab": {
          "base_uri": "https://localhost:8080/"
        },
        "id": "cqbJns6m1-Xb",
        "outputId": "001257d7-990e-4152-b46d-241112bb11c6"
      },
      "source": [
        "#isolate the time series\n",
        "fnirs_X_train_timedata = fnirs_X_train[fnirs_X_train.columns[4:135]]\n",
        "fnirs_X_test_timedata = fnirs_X_test[fnirs_X_test.columns[4:135]]\n",
        "\n",
        "\n",
        "\n",
        "fnirs_X_train_timedata['combine'] = fnirs_X_train_timedata.values.tolist()\n",
        "fnirs_X_test_timedata['combine'] = fnirs_X_test_timedata.values.tolist()\n",
        "fnirs_X_train_timedata = fnirs_X_train_timedata['combine']\n",
        "fnirs_X_test_timedata = fnirs_X_test_timedata['combine']\n",
        "\n",
        "#convert to dataframe\n",
        "fnirs_X_train_timedata = fnirs_X_train_timedata.to_frame()\n",
        "fnirs_X_test_timedata = fnirs_X_test_timedata.to_frame()"
      ],
      "execution_count": null,
      "outputs": [
        {
          "output_type": "stream",
          "text": [
            "/usr/local/lib/python3.6/dist-packages/ipykernel_launcher.py:7: SettingWithCopyWarning: \n",
            "A value is trying to be set on a copy of a slice from a DataFrame.\n",
            "Try using .loc[row_indexer,col_indexer] = value instead\n",
            "\n",
            "See the caveats in the documentation: https://pandas.pydata.org/pandas-docs/stable/user_guide/indexing.html#returning-a-view-versus-a-copy\n",
            "  import sys\n",
            "/usr/local/lib/python3.6/dist-packages/ipykernel_launcher.py:8: SettingWithCopyWarning: \n",
            "A value is trying to be set on a copy of a slice from a DataFrame.\n",
            "Try using .loc[row_indexer,col_indexer] = value instead\n",
            "\n",
            "See the caveats in the documentation: https://pandas.pydata.org/pandas-docs/stable/user_guide/indexing.html#returning-a-view-versus-a-copy\n",
            "  \n"
          ],
          "name": "stderr"
        }
      ]
    },
    {
      "cell_type": "code",
      "metadata": {
        "id": "ibJI1PG32QU-"
      },
      "source": [
        "fnirs_ts_train = pd.Series(fnirs_X_train_timedata['combine'].values, index=fnirs_X_train_timedata.index)\n",
        "fnirs_X_ts_train = fnirs_ts_train.to_frame()\n",
        "\n",
        "fnirs_ts_test = pd.Series(fnirs_X_test_timedata['combine'].values, index=fnirs_X_test_timedata.index)\n",
        "fnirs_X_ts_test = fnirs_ts_test.to_frame()"
      ],
      "execution_count": null,
      "outputs": []
    },
    {
      "cell_type": "code",
      "metadata": {
        "id": "R2FxgwYU2fWY"
      },
      "source": [
        "for row_num in range(0,fnirs_X_ts_train.shape[0]):\n",
        "  fnirs_train_series = pd.Series(fnirs_X_ts_train.iat[row_num,0])\n",
        "  fnirs_X_ts_train.iat[row_num,0] = fnirs_train_series\n",
        "\n",
        "for row_num in range(0,fnirs_X_ts_test.shape[0]):\n",
        "  fnirs_test_series = pd.Series(fnirs_X_ts_test.iat[row_num,0])\n",
        "  fnirs_X_ts_test.iat[row_num,0] = fnirs_test_series"
      ],
      "execution_count": null,
      "outputs": []
    },
    {
      "cell_type": "markdown",
      "metadata": {
        "id": "V4991f1720VI"
      },
      "source": [
        "Verifying the format of the data"
      ]
    },
    {
      "cell_type": "code",
      "metadata": {
        "colab": {
          "base_uri": "https://localhost:8080/",
          "height": 204
        },
        "id": "aYvHliUH2qeH",
        "outputId": "5833b57e-bfec-4db6-9e8c-697fbd22ede0"
      },
      "source": [
        "fnirs_X_ts_test.head()"
      ],
      "execution_count": null,
      "outputs": [
        {
          "output_type": "execute_result",
          "data": {
            "text/html": [
              "<div>\n",
              "<style scoped>\n",
              "    .dataframe tbody tr th:only-of-type {\n",
              "        vertical-align: middle;\n",
              "    }\n",
              "\n",
              "    .dataframe tbody tr th {\n",
              "        vertical-align: top;\n",
              "    }\n",
              "\n",
              "    .dataframe thead th {\n",
              "        text-align: right;\n",
              "    }\n",
              "</style>\n",
              "<table border=\"1\" class=\"dataframe\">\n",
              "  <thead>\n",
              "    <tr style=\"text-align: right;\">\n",
              "      <th></th>\n",
              "      <th>0</th>\n",
              "    </tr>\n",
              "  </thead>\n",
              "  <tbody>\n",
              "    <tr>\n",
              "      <th>1126</th>\n",
              "      <td>0      0.064852\n",
              "1      0.054755\n",
              "2      0.04160...</td>\n",
              "    </tr>\n",
              "    <tr>\n",
              "      <th>1136</th>\n",
              "      <td>0      0.161872\n",
              "1      0.168826\n",
              "2      0.17555...</td>\n",
              "    </tr>\n",
              "    <tr>\n",
              "      <th>1732</th>\n",
              "      <td>0     -0.051404\n",
              "1     -0.100583\n",
              "2     -0.14958...</td>\n",
              "    </tr>\n",
              "    <tr>\n",
              "      <th>887</th>\n",
              "      <td>0      0.136464\n",
              "1      0.128050\n",
              "2      0.11686...</td>\n",
              "    </tr>\n",
              "    <tr>\n",
              "      <th>1528</th>\n",
              "      <td>0      0.316191\n",
              "1      0.322379\n",
              "2      0.32382...</td>\n",
              "    </tr>\n",
              "  </tbody>\n",
              "</table>\n",
              "</div>"
            ],
            "text/plain": [
              "                                                      0\n",
              "1126  0      0.064852\n",
              "1      0.054755\n",
              "2      0.04160...\n",
              "1136  0      0.161872\n",
              "1      0.168826\n",
              "2      0.17555...\n",
              "1732  0     -0.051404\n",
              "1     -0.100583\n",
              "2     -0.14958...\n",
              "887   0      0.136464\n",
              "1      0.128050\n",
              "2      0.11686...\n",
              "1528  0      0.316191\n",
              "1      0.322379\n",
              "2      0.32382..."
            ]
          },
          "metadata": {
            "tags": []
          },
          "execution_count": 37
        }
      ]
    },
    {
      "cell_type": "markdown",
      "metadata": {
        "id": "20FWMnTY24Qd"
      },
      "source": [
        "Proximity Forest"
      ]
    },
    {
      "cell_type": "code",
      "metadata": {
        "id": "wVSE_uOYf2_1"
      },
      "source": [
        "#from sktime.classification.distance_based import ProximityForest\n",
        "\n",
        "#prox_forest = ProximityForest(n_estimators=5)\n",
        "#prox_forest.fit(fnirs_X_ts_train, fnirs_Y_train)\n"
      ],
      "execution_count": null,
      "outputs": []
    },
    {
      "cell_type": "code",
      "metadata": {
        "id": "5t2ABeaCvGXn"
      },
      "source": [
        "#prox_forest.score(fnirs_X_ts_test, fnirs_Y_test)"
      ],
      "execution_count": null,
      "outputs": []
    },
    {
      "cell_type": "code",
      "metadata": {
        "id": "6caxpCCZkWlV"
      },
      "source": [
        "#predict_results = prox_forest.predict(fnirs_X_ts_test)"
      ],
      "execution_count": null,
      "outputs": []
    },
    {
      "cell_type": "code",
      "metadata": {
        "id": "icT_sCwfHe95"
      },
      "source": [
        "#from sklearn.metrics import confusion_matrix\n",
        "#confusion_matrix(fnirs_Y_test,predict_results)"
      ],
      "execution_count": null,
      "outputs": []
    },
    {
      "cell_type": "code",
      "metadata": {
        "id": "IRlHJ0IF0Dmw"
      },
      "source": [
        "#from sktime.classification.distance_based import ProximityForest\n",
        "#prox_forest_2 = ProximityForest(n_estimators=2)\n",
        "#prox_forest_2.fit(fnirs_X_ts_train, fnirs_Y_train)"
      ],
      "execution_count": null,
      "outputs": []
    },
    {
      "cell_type": "code",
      "metadata": {
        "id": "NMT8zqit08A9"
      },
      "source": [
        "# from sklearn.metrics import confusion_matrix\n",
        "# print(prox_forest_2.score(fnirs_X_ts_test, fnirs_Y_test))\n",
        "# predict_results_2 = prox_forest_2.predict(fnirs_X_ts_test)\n",
        "# print(confusion_matrix(fnirs_Y_test,predict_results_2))"
      ],
      "execution_count": null,
      "outputs": []
    },
    {
      "cell_type": "code",
      "metadata": {
        "id": "EMQHkX--X_RR"
      },
      "source": [
        "#print(prox_forest_2.score(fnirs_X_ts_test, fnirs_Y_test))"
      ],
      "execution_count": null,
      "outputs": []
    },
    {
      "cell_type": "code",
      "metadata": {
        "id": "swMWiKmLZY6a"
      },
      "source": [
        "#from sktime.classification.distance_based import ProximityForest\n",
        "#prox_forest_3 = ProximityForest(n_estimators=3)\n",
        "#prox_forest_3.fit(fnirs_X_ts_train, fnirs_Y_train)"
      ],
      "execution_count": null,
      "outputs": []
    },
    {
      "cell_type": "code",
      "metadata": {
        "id": "ODcrc74fZk71"
      },
      "source": [
        "#from sklearn.metrics import confusion_matrix\n",
        "#print(prox_forest_3.score(fnirs_X_ts_test, fnirs_Y_test))\n",
        "#predict_results_3 = prox_forest_3.predict(fnirs_X_ts_test)\n",
        "#print(confusion_matrix(fnirs_Y_test,predict_results_3))"
      ],
      "execution_count": null,
      "outputs": []
    },
    {
      "cell_type": "code",
      "metadata": {
        "colab": {
          "base_uri": "https://localhost:8080/"
        },
        "id": "nLIGRvuztZz-",
        "outputId": "2afa8ac4-d2d8-4ee9-8da5-2e8913230bf0"
      },
      "source": [
        "from sktime.classification.distance_based import ProximityForest\n",
        "prox_forest_2_d10000 = ProximityForest(n_estimators=2,max_depth=10000)\n",
        "prox_forest_2_d10000.fit(fnirs_X_ts_train, fnirs_Y_train)"
      ],
      "execution_count": null,
      "outputs": [
        {
          "output_type": "execute_result",
          "data": {
            "text/plain": [
              "ProximityForest(distance_measure=<function distance_predefined_params.<locals>.distance at 0x7fbb4401c158>,\n",
              "                get_distance_measure=<function setup_all_distance_measure_getter.<locals>.pick_rand_distance_measure at 0x7fbb4407d620>,\n",
              "                max_depth=10000, n_estimators=2,\n",
              "                random_state=RandomState(MT19937) at 0x7FBB70561990)"
            ]
          },
          "metadata": {
            "tags": []
          },
          "execution_count": 38
        }
      ]
    },
    {
      "cell_type": "code",
      "metadata": {
        "id": "11ow2tNXtaRw",
        "colab": {
          "base_uri": "https://localhost:8080/"
        },
        "outputId": "6f6a72c0-cd5d-421b-8bbc-69dc7e013d59"
      },
      "source": [
        "from sklearn.metrics import confusion_matrix\n",
        "print(prox_forest_2_d10000.score(fnirs_X_ts_test, fnirs_Y_test))\n",
        "predict_results_2_d10000 = prox_forest_2_d1000.predict(fnirs_X_ts_test)\n",
        "print(confusion_matrix(fnirs_Y_test,predict_results_2_d10000))"
      ],
      "execution_count": null,
      "outputs": [
        {
          "output_type": "stream",
          "text": [
            "0.5739130434782609\n",
            "[[119 125]\n",
            " [100 116]]\n"
          ],
          "name": "stdout"
        }
      ]
    },
    {
      "cell_type": "code",
      "metadata": {
        "id": "NkVpRIo_eSjq",
        "colab": {
          "base_uri": "https://localhost:8080/"
        },
        "outputId": "21d7e64c-dc81-4ae6-8501-3d8db7a1aaa5"
      },
      "source": [
        "from google.colab import drive\n",
        "drive.mount('/content/drive')"
      ],
      "execution_count": null,
      "outputs": [
        {
          "output_type": "stream",
          "text": [
            "Drive already mounted at /content/drive; to attempt to forcibly remount, call drive.mount(\"/content/drive\", force_remount=True).\n"
          ],
          "name": "stdout"
        }
      ]
    }
  ]
}